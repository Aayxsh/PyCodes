{
  "nbformat": 4,
  "nbformat_minor": 0,
  "metadata": {
    "colab": {
      "provenance": []
    },
    "kernelspec": {
      "name": "python3",
      "display_name": "Python 3"
    },
    "language_info": {
      "name": "python"
    }
  },
  "cells": [
    {
      "cell_type": "markdown",
      "source": [
        "# Data Science Tools and Ecosystem"
      ],
      "metadata": {
        "id": "9xBsrpWqbFsW"
      }
    },
    {
      "cell_type": "markdown",
      "source": [
        "In this notebook, Data Science Tools and Ecosystem are summarized."
      ],
      "metadata": {
        "id": "6dN9Bz_ebjG-"
      }
    },
    {
      "cell_type": "markdown",
      "metadata": {
        "id": "b5b14dd6"
      },
      "source": [
        "Some of the popular languages that Data Scientists use are:\n",
        "1. Python\n",
        "2. R\n",
        "3. SQL"
      ]
    },
    {
      "cell_type": "markdown",
      "source": [
        "**Objective**: List popular languages for Data Science\n",
        "* Python\n",
        "* R\n",
        "* SQL\n",
        "* MongoDB\n",
        "* Julia"
      ],
      "metadata": {
        "id": "dSI6-DpFe4rH"
      }
    },
    {
      "cell_type": "markdown",
      "metadata": {
        "id": "8f6fef04"
      },
      "source": [
        "Some of the commonly used libraries used by Data Scientists include:\n",
        "1. NumPy\n",
        "2. Pandas\n",
        "3. Matplotlib\n",
        "4. Scikit-learn"
      ]
    },
    {
      "cell_type": "markdown",
      "metadata": {
        "id": "582366d1"
      },
      "source": [
        "### Data Science Tools\n",
        "\n",
        "| Data Science Tools |\n",
        "|-------------------|\n",
        "| Jupyter Notebooks |\n",
        "| RStudio           |\n",
        "| VS Code           |"
      ]
    },
    {
      "cell_type": "markdown",
      "metadata": {
        "id": "f38f479a"
      },
      "source": [
        "### Evaluate Arithmetic Expressions in Python"
      ]
    },
    {
      "cell_type": "code",
      "source": [
        "# This is a simple arithmetic expression to multiply then add integers"
      ],
      "metadata": {
        "id": "mo-t8H7gcno1"
      },
      "execution_count": null,
      "outputs": []
    },
    {
      "cell_type": "code",
      "metadata": {
        "colab": {
          "base_uri": "https://localhost:8080/"
        },
        "id": "0ab8f1ce",
        "outputId": "094dfb60-4b3e-4ee6-9575-67c0bc4794a4"
      },
      "source": [
        "(3 * 4) + 5"
      ],
      "execution_count": 2,
      "outputs": [
        {
          "output_type": "execute_result",
          "data": {
            "text/plain": [
              "17"
            ]
          },
          "metadata": {},
          "execution_count": 2
        }
      ]
    },
    {
      "cell_type": "code",
      "metadata": {
        "colab": {
          "base_uri": "https://localhost:8080/"
        },
        "id": "3c40cf7e",
        "outputId": "48201903-5e2c-4378-d192-07ed0fc419fc"
      },
      "source": [
        "# This cell block will convert 200 minutes to hours by dividing by 60.\n",
        "minutes = 200\n",
        "hours = minutes / 60\n",
        "print(hours)"
      ],
      "execution_count": 4,
      "outputs": [
        {
          "output_type": "stream",
          "name": "stdout",
          "text": [
            "3.3333333333333335\n"
          ]
        }
      ]
    },
    {
      "cell_type": "markdown",
      "metadata": {
        "id": "483f600c"
      },
      "source": [
        "## Author\n",
        "Aayush Anshul"
      ]
    }
  ]
}